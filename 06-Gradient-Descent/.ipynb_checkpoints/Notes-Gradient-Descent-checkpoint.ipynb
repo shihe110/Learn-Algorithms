{
 "cells": [
  {
   "cell_type": "code",
   "execution_count": 1,
   "metadata": {},
   "outputs": [],
   "source": [
    "#直线方程中的导数代表直线的斜率\n",
    "#曲线方程中一个点的导数代表该点切线的斜率\n",
    "#导数的正负还代表方向，对应损失函数J增大的方向\n",
    "#导数代表J增大的方向，希望结果获取损失函数J的最小值，则应该是导数的负方向，则可以乘以一个负的参数\n",
    "#对应多维函数，则梯度可以代表方向，对应J增大的方向\n",
    "#学习率 该参数的取值很关键 不合适可能会得不到想要的结果\n",
    "#为避免局部最优解，可多次运行，随机初始化点，梯度下降法的初始点也是一个超参数\n",
    "#起始点对梯度下降法的重要性"
   ]
  },
  {
   "cell_type": "code",
   "execution_count": null,
   "metadata": {},
   "outputs": [],
   "source": [
    "#高维空间中使用梯度下降法求J的最小值点，梯度的方向代表J减小的方向，梯度方向是J下降最快的方向\n",
    "#线性回归中的梯度推导过程，结果是均方误差MSE的2倍"
   ]
  }
 ],
 "metadata": {
  "kernelspec": {
   "display_name": "Python 3",
   "language": "python",
   "name": "python3"
  },
  "language_info": {
   "codemirror_mode": {
    "name": "ipython",
    "version": 3
   },
   "file_extension": ".py",
   "mimetype": "text/x-python",
   "name": "python",
   "nbconvert_exporter": "python",
   "pygments_lexer": "ipython3",
   "version": "3.7.3"
  }
 },
 "nbformat": 4,
 "nbformat_minor": 2
}
